{
  "nbformat": 4,
  "nbformat_minor": 0,
  "metadata": {
    "colab": {
      "name": "DAY_4_PRACTISE_PROBLEM_SOLUTIONS.ipynb",
      "provenance": [],
      "collapsed_sections": []
    },
    "kernelspec": {
      "name": "python3",
      "display_name": "Python 3"
    }
  },
  "cells": [
    {
      "cell_type": "markdown",
      "metadata": {
        "id": "TaLEda6udFAf"
      },
      "source": [
        "# Write a Python program to check whether a number is prime or not."
      ]
    },
    {
      "cell_type": "code",
      "metadata": {
        "colab": {
          "base_uri": "https://localhost:8080/"
        },
        "id": "Xc4w65--dHWr",
        "outputId": "b563cba9-d2bb-45b0-e911-b116c090ae8e"
      },
      "source": [
        "# To take input from the user\r\n",
        "num = int(input(\"Enter a number: \"))\r\n",
        "\r\n",
        "# prime numbers are greater than 1\r\n",
        "if num > 1:\r\n",
        "   for i in range(2,num):\r\n",
        "       if (num % i) == 0:\r\n",
        "           print(num,\"is not a prime number\")\r\n",
        "           print(i,\"times\",num//i,\"is\",num)\r\n",
        "           break\r\n",
        "   else:\r\n",
        "       print(num,\"is a prime number\")\r\n",
        "       \r\n",
        "# if input number is less than or equal to 1, it is not prime\r\n",
        "else:\r\n",
        "   print(num,\"is not a prime number\")"
      ],
      "execution_count": null,
      "outputs": [
        {
          "output_type": "stream",
          "text": [
            "Enter a number: 50\n",
            "50 is not a prime number\n",
            "2 times 25 is 50\n"
          ],
          "name": "stdout"
        }
      ]
    },
    {
      "cell_type": "markdown",
      "metadata": {
        "id": "c848MpOVeCG1"
      },
      "source": [
        "## **Write a Python program to reverse a list using for loop.**\r\n",
        "List1=[10,40,30,70]"
      ]
    },
    {
      "cell_type": "code",
      "metadata": {
        "colab": {
          "base_uri": "https://localhost:8080/"
        },
        "id": "yiJ1oFV7eKYl",
        "outputId": "196c3076-cc6a-44ff-e7ab-91a8792e4585"
      },
      "source": [
        "list=[10,40,30,70]\r\n",
        "print(\"Original list:\",list)\r\n",
        "for item in range(len(list)//2):\r\n",
        "  list[item],list[len(list)-1-item] = list[len(list)-1-item], list[item]\r\n",
        "print(\"Reversed list:\",list)"
      ],
      "execution_count": null,
      "outputs": [
        {
          "output_type": "stream",
          "text": [
            "Original list: [10, 40, 30, 70]\n",
            "Reversed list: [70, 30, 40, 10]\n"
          ],
          "name": "stdout"
        }
      ]
    },
    {
      "cell_type": "markdown",
      "metadata": {
        "id": "9sWYIe2ViQ7L"
      },
      "source": [
        "## **Write a Python function that takes a positive integer and returns the sum of the cube of all the positive integers smaller than the specified number.**"
      ]
    },
    {
      "cell_type": "code",
      "metadata": {
        "id": "4yssJVvPiMAH"
      },
      "source": [
        "#Function definition\r\n",
        "def sum_of_cubes(n):\r\n",
        "  n=n-1\r\n",
        "  sum = 0\r\n",
        "  while n > 0:\r\n",
        "    sum += n * n * n\r\n",
        "    n =n-1\r\n",
        "  return sum"
      ],
      "execution_count": null,
      "outputs": []
    },
    {
      "cell_type": "code",
      "metadata": {
        "colab": {
          "base_uri": "https://localhost:8080/"
        },
        "id": "3JFVUdrVmomJ",
        "outputId": "16e914cc-63a4-4169-c4f3-d65a2e97a960"
      },
      "source": [
        "print(\"Sum of cubes: \",sum_of_cubes(6))"
      ],
      "execution_count": null,
      "outputs": [
        {
          "output_type": "stream",
          "text": [
            "Sum of cubes:  225\n"
          ],
          "name": "stdout"
        }
      ]
    },
    {
      "cell_type": "markdown",
      "metadata": {
        "id": "CNRNWnrXn0ho"
      },
      "source": [
        "![image.png](data:image/png;base64,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)"
      ]
    },
    {
      "cell_type": "markdown",
      "metadata": {
        "id": "We_ARVVkoVRb"
      },
      "source": [
        "## **Write a Python function to calculate the factorial of a number (a non-negative integer).The function accepts the number as an argument.**"
      ]
    },
    {
      "cell_type": "code",
      "metadata": {
        "id": "eXg1UR6Noaty"
      },
      "source": [
        "#Function definition\r\n",
        "def factorial(n):\r\n",
        "    if n == 0:\r\n",
        "        return 1\r\n",
        "    else:\r\n",
        "        return n * factorial(n-1)"
      ],
      "execution_count": null,
      "outputs": []
    },
    {
      "cell_type": "code",
      "metadata": {
        "colab": {
          "base_uri": "https://localhost:8080/"
        },
        "id": "hVlkG8Mepc_b",
        "outputId": "f0f4e0cc-52f5-4e79-d043-45578255f33b"
      },
      "source": [
        "no=int(input(\"Enter a number: \"))\r\n",
        "print(\"Factorial is :\",factorial(no))"
      ],
      "execution_count": null,
      "outputs": [
        {
          "output_type": "stream",
          "text": [
            "Enter a number: 4\n",
            "Factorial is : 24\n"
          ],
          "name": "stdout"
        }
      ]
    },
    {
      "cell_type": "markdown",
      "metadata": {
        "id": "xWOFa2ZNs_op"
      },
      "source": [
        "Another logic using function:"
      ]
    },
    {
      "cell_type": "code",
      "metadata": {
        "id": "Qy04YKzsp_cj"
      },
      "source": [
        "def fn(n):\r\n",
        "  factorial=1\r\n",
        "  if  n == 0:\r\n",
        "    return 1\r\n",
        "  else:\r\n",
        "   for i in range(1,n + 1):\r\n",
        "       factorial = factorial*i\r\n",
        "   return factorial\r\n"
      ],
      "execution_count": null,
      "outputs": []
    },
    {
      "cell_type": "code",
      "metadata": {
        "colab": {
          "base_uri": "https://localhost:8080/"
        },
        "id": "gc0DkWy5s5rC",
        "outputId": "871027da-869e-4b5c-8c88-e4246c8c6c76"
      },
      "source": [
        "no=int(input(\"Enter a number: \"))\r\n",
        "print(\"Factorial is :\",fn(no))"
      ],
      "execution_count": null,
      "outputs": [
        {
          "output_type": "stream",
          "text": [
            "Enter a number: 4\n",
            "Factorial is : 24\n"
          ],
          "name": "stdout"
        }
      ]
    },
    {
      "cell_type": "markdown",
      "metadata": {
        "id": "wxSEDloFtvYP"
      },
      "source": [
        "## **Write a Python program to print the following pattern.**\r\n",
        "*\r\n",
        "**\r\n",
        "***\r\n",
        "****"
      ]
    },
    {
      "cell_type": "code",
      "metadata": {
        "colab": {
          "base_uri": "https://localhost:8080/"
        },
        "id": "U55i1TbltyCA",
        "outputId": "5291370e-3c00-493b-fa6d-087162d2dbf7"
      },
      "source": [
        "rows = 4\r\n",
        "for i in range(0, rows):\r\n",
        "    for j in range(0, i + 1):\r\n",
        "        print(\"*\", end=' ')\r\n",
        "\r\n",
        "    print(\"\\n\")"
      ],
      "execution_count": null,
      "outputs": [
        {
          "output_type": "stream",
          "text": [
            "* \n",
            "\n",
            "* * \n",
            "\n",
            "* * * \n",
            "\n",
            "* * * * \n",
            "\n"
          ],
          "name": "stdout"
        }
      ]
    }
  ]
}